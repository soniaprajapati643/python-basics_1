{
  "nbformat": 4,
  "nbformat_minor": 0,
  "metadata": {
    "colab": {
      "provenance": []
    },
    "kernelspec": {
      "name": "python3",
      "display_name": "Python 3"
    },
    "language_info": {
      "name": "python"
    }
  },
  "cells": [
    {
      "cell_type": "code",
      "execution_count": null,
      "metadata": {
        "id": "ISFmCob3f8lb"
      },
      "outputs": [],
      "source": []
    },
    {
      "cell_type": "markdown",
      "source": [
        "1. What is python and why is it popular?\n",
        "*Python is a programming language that is easy to understand and write, making it a popular choice among developers and programmers.\n",
        "It is popular because it makes life easier for programmers and allow them to build effective applications for users and business.\n",
        "\n",
        "2.What is an interpreter in python?\n",
        "*Interpreter is a program that directly executes python code into machine code.\n",
        "\n",
        "3.What are pre-defined keywords in python?\n",
        "-Keywords define the language's syntax rules and structure and they cannot be used as variable names.\n",
        "\n",
        "4.Can keywords be used as variable names?\n",
        "-No, keywords can not be used as variable names.\n",
        "\n",
        "5. What is mutability in python?\n",
        "-In python, mutability whose state or value can be changed after they are created.\n",
        "\n",
        "6.Why are lists mutable, but tuples are immutable?\n",
        "-Lists use square brackets[]and it can modified easily but Tuples use Parentheses() instead of square bracket and the item in tuple cannot be modified.We can say that lists are mutable and tuples are immutable.\n",
        "\n",
        "7.What is the difference between \"==\" and \"is\" operators in python?\n",
        "-This operator \"==\" compares the values of two objects.It checks if the content or data held by the objects are equivalent.\n",
        " This operator \"is\" compares the identity of two objects. It determines whether two variables or references  point to the exact same object in memory.\n",
        "\n",
        "8.What are logical operators in python?\n",
        "-Logical operators in python are used to combine conditional statement and evaluate expressions based on their truth values (True and False).\n",
        "\n",
        "9.What is type casting in python?\n",
        "-Type casting(type conversion) is the process of changing one data type to another.\n",
        "\n",
        "10. What is the difference between implicit and explicit type casting?\n",
        "-*Implicit Type Casting\n",
        " 1.Done automatically by the compiler.\n",
        " 2.Converts a smaller or lower-ranked data type to a larger or higher-ranked one.\n",
        " 3.No data loss, and usually safe.\n",
        "\n",
        " *Explicit Type Casting (Type Conversion)\n",
        " 1.Manually specified by the programmer.\n",
        " 2.Can convert any data type to another, but may cause data loss (e.g., float to int).\n",
        " 3.Done using type casting operators.\n",
        "\n",
        "11.What is the purpose of conditional statements in python?\n",
        "-The purpose of conditional statements in python is to help in taking decisions based on some preconditions.\n",
        "\n",
        "12.How does the elif statement work?\n",
        "-1.The program checks the if condition first.\n",
        "2.If if is false, it checks each elif in order.\n",
        "3.If any elif is true, that block runs, and the rest are skipped.\n",
        "4.If none of the if or elif conditions are true, the optional else block runs.\n",
        "\n",
        "13.What is the difference between for and while loops?\n",
        "- For are used for iterating over a sequence of elements. It has a counter or range that changes in a predictable way or While loops are used for executing code until specified condition becomes false and it continues as long as the condition is true.\n",
        "\n",
        "14.Describe a scenario where a while loop is more suitable than a for loop.\n",
        "- A while loop is more suitable than a for loop in scenarios where you don’t know in advance how many times the loop should run, and the loop depends on a condition that changes during runtime.\n",
        "\n",
        "\n",
        "\n",
        "\n",
        "\n",
        "\n",
        "\n",
        "\n",
        "\n",
        "\n",
        "\n"
      ],
      "metadata": {
        "id": "sl_z8JUAhOMn"
      }
    }
  ]
}